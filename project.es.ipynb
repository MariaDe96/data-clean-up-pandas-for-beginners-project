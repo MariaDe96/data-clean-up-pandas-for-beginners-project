{
  "cells": [
    {
      "cell_type": "markdown",
      "id": "66fac57f",
      "metadata": {},
      "source": [
        "# Prácticas básicas con Python\n",
        "\n",
        "#### Ejercicio 00. Declaración de Variables\n",
        "\n",
        "Define las siguientes variables con valores que tú elijas:\n",
        "\n",
        "- Una variable que almacene tu nombre (texto).\n",
        "- Una variable que almacene tu edad (número entero).\n",
        "- Una variable que indique si te gusta la programación (verdadero o falso).\n",
        "- Una variable que almacene tu calificación promedio (número decimal).\n"
      ]
    },
    {
      "cell_type": "code",
      "execution_count": 3,
      "id": "4eca514d",
      "metadata": {},
      "outputs": [
        {
          "name": "stdout",
          "output_type": "stream",
          "text": [
            "Me gusta programacion\n",
            "101.5\n",
            "20.3\n"
          ]
        }
      ],
      "source": [
        "# Declara aquí tus variables.\n",
        "\n",
        "#Ejemplo\n",
        "Name = \"Maria\" \n",
        "\n",
        "Edad= \"28\"\n",
        "\n",
        "Me_gusta_programacion = True \n",
        "if Me_gusta_programacion:\n",
        "    print(\"Me gusta programacion\")\n",
        "else:\n",
        "    print(\"No me gusta programacion\")\n",
        "\n",
        "calificacion = [18.1,19.2,20.3,21.4,22.5]\n",
        "suma_calificacion = sum(calificacion)\n",
        "print(suma_calificacion)\n",
        "promedio_calificacion= (suma_calificacion / len(calificacion))\n",
        "print(promedio_calificacion)\n",
        "\n",
        "\n",
        "\n"
      ]
    },
    {
      "cell_type": "markdown",
      "id": "21e43590",
      "metadata": {},
      "source": [
        "- Crea una lista con tus cinco números favoritos e imprimelo."
      ]
    },
    {
      "cell_type": "code",
      "execution_count": 2,
      "id": "69f9e072",
      "metadata": {},
      "outputs": [
        {
          "name": "stdout",
          "output_type": "stream",
          "text": [
            "[13, 18, 19, 24, 49]\n"
          ]
        }
      ],
      "source": [
        "# Lista de números favoritos\n",
        "my_num_fav= [13,18,19,24,49]\n",
        "print(my_num_fav)\n"
      ]
    },
    {
      "cell_type": "markdown",
      "id": "9946452f",
      "metadata": {},
      "source": [
        "- Crea un diccionario que guarde la información de un estudiante e imprimelo:\n",
        "\n",
        "        - Nombre\n",
        "        - Edad\n",
        "        - Calificación final"
      ]
    },
    {
      "cell_type": "code",
      "execution_count": 1,
      "id": "0d30fb44",
      "metadata": {},
      "outputs": [
        {
          "name": "stdout",
          "output_type": "stream",
          "text": [
            "{'nombre': 'Manuel', 'edad': '36', 'calificacion final': '18.5'}\n"
          ]
        }
      ],
      "source": [
        "# Diccionario del estudiante\n",
        "Student_fav = {\n",
        "    \n",
        "   \"nombre\": \"Manuel\",\n",
        "   \"edad\": \"36\",\n",
        "   \"calificacion final\": \"18.5\"\n",
        "}\n",
        "print(Student_fav)\n"
      ]
    },
    {
      "cell_type": "markdown",
      "id": "91eb860d",
      "metadata": {},
      "source": [
        "#### Ejercicio 01. Análisis de datos básico con estructuras nativas de python.\n",
        "Crea una lista con las calificaciones de 5 estudiantes: [8.5, 9.2, 7.8, 8.9, 10].\n",
        "\n",
        "- Calcula el promedio de las calificaciones."
      ]
    },
    {
      "cell_type": "code",
      "execution_count": 4,
      "id": "41b747dc",
      "metadata": {},
      "outputs": [
        {
          "name": "stdout",
          "output_type": "stream",
          "text": [
            "[8.5, 9.2, 7.8, 8.9, 10]\n",
            "44.4\n",
            "8.879999999999999\n"
          ]
        }
      ],
      "source": [
        "# Código\n",
        "list_calif= [8.5, 9.2, 7.8, 8.9, 10]\n",
        "print(list_calif)\n",
        "\n",
        "sum_calif= sum(list_calif)\n",
        "print(sum_calif)\n",
        "\n",
        "promedio_calif = sum_calif/len(list_calif)\n",
        "print(promedio_calif)"
      ]
    },
    {
      "cell_type": "markdown",
      "id": "699ac3a6",
      "metadata": {},
      "source": [
        "- Encuentra la calificación más alta y la más baja."
      ]
    },
    {
      "cell_type": "code",
      "execution_count": 5,
      "id": "0224afb4",
      "metadata": {},
      "outputs": [
        {
          "name": "stdout",
          "output_type": "stream",
          "text": [
            "10\n",
            "7.8\n"
          ]
        }
      ],
      "source": [
        "# Código\n",
        "calif_max = max(list_calif)\n",
        "print(calif_max)\n",
        "\n",
        "calif_men = min(list_calif)\n",
        "print(calif_men)"
      ]
    },
    {
      "attachments": {},
      "cell_type": "markdown",
      "id": "innocent-university",
      "metadata": {},
      "source": [
        "# Limpieza de bienes raíces con Pandas para un análisis eficiente \n",
        "\n",
        "Este es un conjunto de datos (dataset) reales que fue descargado usando técnicas de web scraping. La data contiene registros de **Fotocasa**, el cual es uno de los sitios más populares de bienes raíces en España. Por favor no hagas esto (web scraping) a no ser que sea para propósitos académicos.\n",
        "\n",
        "El dataset fue descargado hace algunos años por Henry Navarro y en ningún caso se obtuvo beneficio económico de ello.\n",
        "\n",
        "Contiene miles de datos de casas reales publicadas en la web www.fotocasa.com. Tu objetivo es extraer tanta información como sea posible con el conocimiento que tienes hasta ahora de ciencia de datos.\n",
        "\n",
        "¡Comencemos!\n",
        "\n",
        "\n",
        "\n",
        "\n",
        "- Primero leamos y exploraremos el dataset"
      ]
    },
    {
      "cell_type": "code",
      "execution_count": 8,
      "id": "frank-heath",
      "metadata": {},
      "outputs": [
        {
          "name": "stdout",
          "output_type": "stream",
          "text": [
            "       Unnamed: 0  id_realEstates  isNew                    realEstate_name  \\\n",
            "0               1       153771986  False            ferrari 57 inmobiliaria   \n",
            "1               2       153867863  False  tecnocasa fuenlabrada ferrocarril   \n",
            "2               3       153430440  False                 look find boadilla   \n",
            "3               4       152776331  False  tecnocasa fuenlabrada ferrocarril   \n",
            "4               5       153180188  False            ferrari 57 inmobiliaria   \n",
            "...           ...             ...    ...                                ...   \n",
            "15330       15331       153901377  False                infocasa consulting   \n",
            "15331       15332       150394373  False                inmobiliaria pulpon   \n",
            "15332       15333       153901397  False             tecnocasa torrelodones   \n",
            "15333       15334       152607440  False                inmobiliaria pulpon   \n",
            "15334       15335       153901356  False                infocasa consulting   \n",
            "\n",
            "       phone_realEstate                                       url_inmueble  \\\n",
            "0           912177526.0  https://www.fotocasa.es/es/comprar/vivienda/ma...   \n",
            "1           916358736.0  https://www.fotocasa.es/es/comprar/vivienda/ma...   \n",
            "2           916350408.0  https://www.fotocasa.es/es/comprar/vivienda/ma...   \n",
            "3           916358736.0  https://www.fotocasa.es/es/comprar/vivienda/ma...   \n",
            "4           912177526.0  https://www.fotocasa.es/es/comprar/vivienda/ma...   \n",
            "...                 ...                                                ...   \n",
            "15330       911360461.0  https://www.fotocasa.es/es/comprar/vivienda/ma...   \n",
            "15331       912788039.0  https://www.fotocasa.es/es/comprar/vivienda/ma...   \n",
            "15332       912780348.0  https://www.fotocasa.es/es/comprar/vivienda/ma...   \n",
            "15333       912788039.0  https://www.fotocasa.es/es/comprar/vivienda/ma...   \n",
            "15334       911360461.0  https://www.fotocasa.es/es/comprar/vivienda/ma...   \n",
            "\n",
            "       rooms  bathrooms  surface   price  ... level4Id level5Id level6Id  \\\n",
            "0        3.0        2.0    103.0  195000  ...        0        0        0   \n",
            "1        3.0        1.0      NaN   89000  ...        0        0        0   \n",
            "2        2.0        2.0     99.0  390000  ...        0        0        0   \n",
            "3        3.0        1.0     86.0   89000  ...        0        0        0   \n",
            "4        2.0        2.0    106.0  172000  ...        0        0        0   \n",
            "...      ...        ...      ...     ...  ...      ...      ...      ...   \n",
            "15330    2.0        1.0     96.0  259470  ...        0        0        0   \n",
            "15331    3.0        1.0    150.0  165000  ...        0        0        0   \n",
            "15332    4.0        2.0    175.0  495000  ...        0        0        0   \n",
            "15333    3.0        2.0    101.0  195000  ...        0        0        0   \n",
            "15334    3.0        2.0    152.0  765000  ...        0        0        0   \n",
            "\n",
            "      level7Id level8Id accuracy          latitude          longitude zipCode  \\\n",
            "0            0        0        0  40,2948276786438  -3,44402412135624     NaN   \n",
            "1            0        0        1          40,28674           -3,79351     NaN   \n",
            "2            0        0        0  40,4115646786438  -3,90662252135624     NaN   \n",
            "3            0        0        0  40,2853785786438  -3,79508142135624     NaN   \n",
            "4            0        0        0  40,2998774864376  -3,45226301356237     NaN   \n",
            "...        ...      ...      ...               ...                ...     ...   \n",
            "15330        0        0        0          40,45416           -3,70286     NaN   \n",
            "15331        0        0        0          40,36652           -3,48951     NaN   \n",
            "15332        0        0        0          40,57444           -3,92124     NaN   \n",
            "15333        0        0        0          40,36967           -3,48105     NaN   \n",
            "15334        0        0        0          40,45773           -3,69068     NaN   \n",
            "\n",
            "      customZone  \n",
            "0            NaN  \n",
            "1            NaN  \n",
            "2            NaN  \n",
            "3            NaN  \n",
            "4            NaN  \n",
            "...          ...  \n",
            "15330        NaN  \n",
            "15331        NaN  \n",
            "15332        NaN  \n",
            "15333        NaN  \n",
            "15334        NaN  \n",
            "\n",
            "[15335 rows x 37 columns]\n"
          ]
        }
      ],
      "source": [
        "import pandas as pd\n",
        "\n",
        "# Leer el archivo CSV\n",
        "ds = pd.read_csv('assets/real_estate.csv', sep=';') # Este archivo CSV contiene puntos y comas en lugar de comas como separadores\n",
        "print(ds)"
      ]
    },
    {
      "cell_type": "markdown",
      "id": "19bc6aa8",
      "metadata": {},
      "source": [
        "- Muestra las primeras filas del archivo CSV"
      ]
    },
    {
      "cell_type": "code",
      "execution_count": 4,
      "id": "93434fb6",
      "metadata": {},
      "outputs": [
        {
          "data": {
            "text/html": [
              "<div>\n",
              "<style scoped>\n",
              "    .dataframe tbody tr th:only-of-type {\n",
              "        vertical-align: middle;\n",
              "    }\n",
              "\n",
              "    .dataframe tbody tr th {\n",
              "        vertical-align: top;\n",
              "    }\n",
              "\n",
              "    .dataframe thead th {\n",
              "        text-align: right;\n",
              "    }\n",
              "</style>\n",
              "<table border=\"1\" class=\"dataframe\">\n",
              "  <thead>\n",
              "    <tr style=\"text-align: right;\">\n",
              "      <th></th>\n",
              "      <th>Unnamed: 0</th>\n",
              "      <th>id_realEstates</th>\n",
              "      <th>isNew</th>\n",
              "      <th>realEstate_name</th>\n",
              "      <th>phone_realEstate</th>\n",
              "      <th>url_inmueble</th>\n",
              "      <th>rooms</th>\n",
              "      <th>bathrooms</th>\n",
              "      <th>surface</th>\n",
              "      <th>price</th>\n",
              "      <th>...</th>\n",
              "      <th>level4Id</th>\n",
              "      <th>level5Id</th>\n",
              "      <th>level6Id</th>\n",
              "      <th>level7Id</th>\n",
              "      <th>level8Id</th>\n",
              "      <th>accuracy</th>\n",
              "      <th>latitude</th>\n",
              "      <th>longitude</th>\n",
              "      <th>zipCode</th>\n",
              "      <th>customZone</th>\n",
              "    </tr>\n",
              "  </thead>\n",
              "  <tbody>\n",
              "    <tr>\n",
              "      <th>0</th>\n",
              "      <td>1</td>\n",
              "      <td>153771986</td>\n",
              "      <td>False</td>\n",
              "      <td>ferrari 57 inmobiliaria</td>\n",
              "      <td>912177526.0</td>\n",
              "      <td>https://www.fotocasa.es/es/comprar/vivienda/ma...</td>\n",
              "      <td>3.0</td>\n",
              "      <td>2.0</td>\n",
              "      <td>103.0</td>\n",
              "      <td>195000</td>\n",
              "      <td>...</td>\n",
              "      <td>0</td>\n",
              "      <td>0</td>\n",
              "      <td>0</td>\n",
              "      <td>0</td>\n",
              "      <td>0</td>\n",
              "      <td>0</td>\n",
              "      <td>40,2948276786438</td>\n",
              "      <td>-3,44402412135624</td>\n",
              "      <td>NaN</td>\n",
              "      <td>NaN</td>\n",
              "    </tr>\n",
              "    <tr>\n",
              "      <th>1</th>\n",
              "      <td>2</td>\n",
              "      <td>153867863</td>\n",
              "      <td>False</td>\n",
              "      <td>tecnocasa fuenlabrada ferrocarril</td>\n",
              "      <td>916358736.0</td>\n",
              "      <td>https://www.fotocasa.es/es/comprar/vivienda/ma...</td>\n",
              "      <td>3.0</td>\n",
              "      <td>1.0</td>\n",
              "      <td>NaN</td>\n",
              "      <td>89000</td>\n",
              "      <td>...</td>\n",
              "      <td>0</td>\n",
              "      <td>0</td>\n",
              "      <td>0</td>\n",
              "      <td>0</td>\n",
              "      <td>0</td>\n",
              "      <td>1</td>\n",
              "      <td>40,28674</td>\n",
              "      <td>-3,79351</td>\n",
              "      <td>NaN</td>\n",
              "      <td>NaN</td>\n",
              "    </tr>\n",
              "    <tr>\n",
              "      <th>2</th>\n",
              "      <td>3</td>\n",
              "      <td>153430440</td>\n",
              "      <td>False</td>\n",
              "      <td>look find boadilla</td>\n",
              "      <td>916350408.0</td>\n",
              "      <td>https://www.fotocasa.es/es/comprar/vivienda/ma...</td>\n",
              "      <td>2.0</td>\n",
              "      <td>2.0</td>\n",
              "      <td>99.0</td>\n",
              "      <td>390000</td>\n",
              "      <td>...</td>\n",
              "      <td>0</td>\n",
              "      <td>0</td>\n",
              "      <td>0</td>\n",
              "      <td>0</td>\n",
              "      <td>0</td>\n",
              "      <td>0</td>\n",
              "      <td>40,4115646786438</td>\n",
              "      <td>-3,90662252135624</td>\n",
              "      <td>NaN</td>\n",
              "      <td>NaN</td>\n",
              "    </tr>\n",
              "    <tr>\n",
              "      <th>3</th>\n",
              "      <td>4</td>\n",
              "      <td>152776331</td>\n",
              "      <td>False</td>\n",
              "      <td>tecnocasa fuenlabrada ferrocarril</td>\n",
              "      <td>916358736.0</td>\n",
              "      <td>https://www.fotocasa.es/es/comprar/vivienda/ma...</td>\n",
              "      <td>3.0</td>\n",
              "      <td>1.0</td>\n",
              "      <td>86.0</td>\n",
              "      <td>89000</td>\n",
              "      <td>...</td>\n",
              "      <td>0</td>\n",
              "      <td>0</td>\n",
              "      <td>0</td>\n",
              "      <td>0</td>\n",
              "      <td>0</td>\n",
              "      <td>0</td>\n",
              "      <td>40,2853785786438</td>\n",
              "      <td>-3,79508142135624</td>\n",
              "      <td>NaN</td>\n",
              "      <td>NaN</td>\n",
              "    </tr>\n",
              "    <tr>\n",
              "      <th>4</th>\n",
              "      <td>5</td>\n",
              "      <td>153180188</td>\n",
              "      <td>False</td>\n",
              "      <td>ferrari 57 inmobiliaria</td>\n",
              "      <td>912177526.0</td>\n",
              "      <td>https://www.fotocasa.es/es/comprar/vivienda/ma...</td>\n",
              "      <td>2.0</td>\n",
              "      <td>2.0</td>\n",
              "      <td>106.0</td>\n",
              "      <td>172000</td>\n",
              "      <td>...</td>\n",
              "      <td>0</td>\n",
              "      <td>0</td>\n",
              "      <td>0</td>\n",
              "      <td>0</td>\n",
              "      <td>0</td>\n",
              "      <td>0</td>\n",
              "      <td>40,2998774864376</td>\n",
              "      <td>-3,45226301356237</td>\n",
              "      <td>NaN</td>\n",
              "      <td>NaN</td>\n",
              "    </tr>\n",
              "  </tbody>\n",
              "</table>\n",
              "<p>5 rows × 37 columns</p>\n",
              "</div>"
            ],
            "text/plain": [
              "   Unnamed: 0  id_realEstates  isNew                    realEstate_name  \\\n",
              "0           1       153771986  False            ferrari 57 inmobiliaria   \n",
              "1           2       153867863  False  tecnocasa fuenlabrada ferrocarril   \n",
              "2           3       153430440  False                 look find boadilla   \n",
              "3           4       152776331  False  tecnocasa fuenlabrada ferrocarril   \n",
              "4           5       153180188  False            ferrari 57 inmobiliaria   \n",
              "\n",
              "   phone_realEstate                                       url_inmueble  rooms  \\\n",
              "0       912177526.0  https://www.fotocasa.es/es/comprar/vivienda/ma...    3.0   \n",
              "1       916358736.0  https://www.fotocasa.es/es/comprar/vivienda/ma...    3.0   \n",
              "2       916350408.0  https://www.fotocasa.es/es/comprar/vivienda/ma...    2.0   \n",
              "3       916358736.0  https://www.fotocasa.es/es/comprar/vivienda/ma...    3.0   \n",
              "4       912177526.0  https://www.fotocasa.es/es/comprar/vivienda/ma...    2.0   \n",
              "\n",
              "   bathrooms  surface   price  ... level4Id level5Id level6Id level7Id  \\\n",
              "0        2.0    103.0  195000  ...        0        0        0        0   \n",
              "1        1.0      NaN   89000  ...        0        0        0        0   \n",
              "2        2.0     99.0  390000  ...        0        0        0        0   \n",
              "3        1.0     86.0   89000  ...        0        0        0        0   \n",
              "4        2.0    106.0  172000  ...        0        0        0        0   \n",
              "\n",
              "  level8Id accuracy          latitude          longitude zipCode customZone  \n",
              "0        0        0  40,2948276786438  -3,44402412135624     NaN        NaN  \n",
              "1        0        1          40,28674           -3,79351     NaN        NaN  \n",
              "2        0        0  40,4115646786438  -3,90662252135624     NaN        NaN  \n",
              "3        0        0  40,2853785786438  -3,79508142135624     NaN        NaN  \n",
              "4        0        0  40,2998774864376  -3,45226301356237     NaN        NaN  \n",
              "\n",
              "[5 rows x 37 columns]"
            ]
          },
          "execution_count": 4,
          "metadata": {},
          "output_type": "execute_result"
        }
      ],
      "source": [
        "# Mostrar las primeras filas\n",
        "\n",
        "ds.head()\n"
      ]
    },
    {
      "cell_type": "markdown",
      "id": "a1095c6b",
      "metadata": {},
      "source": [
        "Perfecto, esto fue una pequeña practica. ¡Ahora empecemos con los verdaderos ejercicios!"
      ]
    },
    {
      "attachments": {},
      "cell_type": "markdown",
      "id": "latin-guest",
      "metadata": {},
      "source": [
        "#### Ejercicio 01. ¿Cuál es la casa más cara en todo el dataset? (★☆☆)\n",
        "\n",
        "Imprime la dirección y el precio de la casa seleccionada. Por ejemplo:\n",
        "\n",
        "`La casa con dirección en Calle del Prado, Nº20 es la más cara y su precio es de 5000000 USD`"
      ]
    },
    {
      "cell_type": "code",
      "execution_count": 5,
      "id": "developing-optimum",
      "metadata": {},
      "outputs": [
        {
          "name": "stdout",
          "output_type": "stream",
          "text": [
            "8500000\n",
            "El Escorial\n"
          ]
        }
      ],
      "source": [
        "import pandas as pd\n",
        "ds = pd.read_csv('assets/real_estate.csv', sep=';')\n",
        "precio_high = ds.price.max()\n",
        "print(precio_high)\n",
        "direction_high = ds.address[ds[ds[\"price\"] == precio_high].index[0]] \n",
        "print(direction_high)"
      ]
    },
    {
      "attachments": {},
      "cell_type": "markdown",
      "id": "lesser-cosmetic",
      "metadata": {},
      "source": [
        "#### Ejercicio 02. ¿Cuál es la casa más barata del dataset? (★☆☆)\n",
        "\n",
        "Este ejercicio es similar al ejercicio anterior, solo que ahora buscamos la casa con el precio más bajo. Recuerda imprimir la dirección y el precio de la casa seleccionada. Por ejemplo:\n",
        "\n",
        "`La casa con dirección en Calle Alcalá, Nº58 es la más barata y su precio es de 12000 USD`"
      ]
    },
    {
      "cell_type": "code",
      "execution_count": 37,
      "id": "lovely-oasis",
      "metadata": {},
      "outputs": [
        {
          "name": "stdout",
          "output_type": "stream",
          "text": [
            "0\n",
            "Parla\n"
          ]
        }
      ],
      "source": [
        "# imprimir la casa mas barata y su precio\n",
        "ds = pd.read_csv('assets/real_estate.csv', sep=';')\n",
        "House_cheap= ds.price.min()\n",
        "print(House_cheap)\n",
        "direction_cheap = ds.address[ds[ds[\"price\"] == House_cheap].index[0]] \n",
        "print(direction_cheap)"
      ]
    },
    {
      "attachments": {},
      "cell_type": "markdown",
      "id": "compliant-fellowship",
      "metadata": {},
      "source": [
        "#### Ejercicio 03. ¿Cuál es la casa más grande y la más pequeña del dataset? (★☆☆)\n",
        "\n",
        "Imprime la dirección y el área de las casas seleccionadas. Por ejemplo:\n",
        "\n",
        "`La casa más grande está ubicada en Calle Gran Vía, Nº38 y su superficie es de 5000 metros`\n",
        "\n",
        "`La casa más pequeña está ubicada en Calle Mayor, Nº12 y su superficie es de 200 metros`\n",
        "\n",
        "Este ejercicio es similar al anterior, pero buscamos las casas más grandes y pequeñas en base a su superficie."
      ]
    },
    {
      "cell_type": "code",
      "execution_count": 35,
      "id": "every-tiffany",
      "metadata": {},
      "outputs": [
        {
          "name": "stdout",
          "output_type": "stream",
          "text": [
            "Sevilla la Nueva\n",
            "Calle Amparo,  Madrid Capital\n",
            "249000.0 15.0\n"
          ]
        }
      ],
      "source": [
        "# \n",
        "House_big= ds[\"surface\"].max()\n",
        "direction_big = ds.address[ds[ds[\"surface\"] == House_big].index[0]]\n",
        "print(direction_big) \n",
        "House_short= ds[\"surface\"].min()\n",
        "direction_short = ds.address[ds[ds[\"surface\"] == House_short].index[0]]\n",
        "print(direction_short)\n",
        "print(House_big, House_short)"
      ]
    },
    {
      "attachments": {},
      "cell_type": "markdown",
      "id": "danish-spirit",
      "metadata": {},
      "source": [
        "#### Ejercicio 04. ¿Cuantas poblaciones contiene el dataset? (★☆☆)\n",
        "\n",
        "Cuenta el número de poblaciones únicas en la columna 'level5' e imprime el nombre de las poblaciones separadas por coma. Por ejemplo:\n",
        "\n",
        "`> print(populations)`\n",
        "\n",
        "`population1, population2, population3, ...`"
      ]
    },
    {
      "cell_type": "code",
      "execution_count": 10,
      "id": "exciting-accreditation",
      "metadata": {},
      "outputs": [
        {
          "name": "stdout",
          "output_type": "stream",
          "text": [
            "['Arganda del Rey' 'Fuenlabrada' 'Boadilla del Monte'\n",
            " 'Las Rozas de Madrid' ' Madrid Capital' 'Villaviciosa de Odón' 'Pinto'\n",
            " 'Valdemoro' 'Navalcarnero' 'Pozuelo de Alarcón' 'Torrejón de Ardoz'\n",
            " 'Navalagamella' 'San Sebastián de los Reyes' 'Rivas-vaciamadrid'\n",
            " 'Alpedrete' 'Móstoles' 'San Fernando de Henares' 'Coslada'\n",
            " 'Becerril de la Sierra' 'Alcalá de Henares' 'Chinchón' 'Parla' 'Alcorcón'\n",
            " 'El Escorial' 'Leganés' 'Pedrezuela' 'Majadahonda'\n",
            " 'Villanueva de la Cañada' 'Villanueva del Pardillo' 'Torrelodones'\n",
            " 'Moralzarzal' 'Mejorada del Campo' 'Aranjuez' 'Corpa' 'Getafe'\n",
            " 'Velilla de San Antonio' 'Sevilla la Nueva' 'San Martín de la Vega'\n",
            " 'Villalbilla' 'Collado Villalba' 'Alcobendas' 'El Molar (Madrid)'\n",
            " 'Moraleja de Enmedio' 'Algete' 'Campo Real' 'Torrejón de la Calzada'\n",
            " 'Colmenar Viejo' 'Valdemorillo' 'Fuente El Saz de Jarama' 'Tres Cantos'\n",
            " 'Arroyomolinos (Madrid)' 'Griñón' 'Paracuellos de Jarama' 'Guadarrama'\n",
            " 'Titulcia' 'Galapagar' 'Collado Mediano' 'Los Molinos'\n",
            " 'San Lorenzo de El Escorial' 'Loeches' 'San Martín de Valdeiglesias'\n",
            " 'Navas del Rey' 'Bustarviejo' 'Manzanares El Real' 'Carabaña'\n",
            " 'Casarrubuelos' 'Cercedilla' 'Fresnedillas de la Oliva' 'Valdemaqueda'\n",
            " 'Robledo de Chavela' 'Miraflores de la Sierra' 'Humanes de Madrid'\n",
            " 'Valdetorres de Jarama' 'San Agustín del Guadalix' 'Ciempozuelos'\n",
            " 'Camarma de Esteruelas' 'Torres de la Alameda' 'Talamanca de Jarama'\n",
            " 'El Atazar' 'Hoyo de Manzanares' 'El Boalo - Cerceda – Mataelpino'\n",
            " 'El Álamo' 'Valdilecha' 'Valdeolmos-Alalpardo' 'Guadalix de la Sierra'\n",
            " 'Belmonte de Tajo' 'El Vellón' 'Brunete' 'Redueña' 'Morata de Tajuña'\n",
            " 'Tielmes' 'Gargantilla del Lozoya' 'Meco' 'Venturada' 'Quijorna'\n",
            " 'Cenicientos' 'Torrejón de Velasco' 'Navacerrada'\n",
            " 'Santa María de la Alameda' 'Orusco de Tajuña' 'Daganzo de Arriba'\n",
            " 'Villamanta' 'Anchuelo' 'Valdaracete' 'Ajalvir' 'Los Santos de la Humosa'\n",
            " 'Villamanrique de Tajo' 'Colmenar de Oreja' 'Villa del Prado'\n",
            " 'Fuentidueña de Tajo' 'Colmenar del Arroyo' 'Valdelaguna'\n",
            " 'Cubas de la Sagra' 'Valdeavero' 'Aldea del Fresno' 'Ribatejada'\n",
            " 'Torrelaguna' 'Batres' 'Pezuela de las Torres' 'Colmenarejo'\n",
            " 'Serranillos del Valle' 'Cobeña' 'Soto del Real' 'El Berrueco'\n",
            " 'Villanueva de Perales' 'Fresno de Torote - Serracines' 'Pozuelo del Rey'\n",
            " 'Pelayos de la Presa' 'La Cabrera' 'Nuevo Baztán' 'Perales de Tajuña'\n",
            " 'Villaconejos' 'Villarejo de Salvanés' 'Cadalso de los Vidrios'\n",
            " 'Santorcaz' 'Madarcos' 'Garganta de los Montes' 'Puentes Viejas'\n",
            " 'Torremocha de Jarama' 'Valdemanco' 'Braojos'\n",
            " 'Lozoyuela-navas-sieteiglesias' 'Piñuécar-gandullas' 'Valdepiélagos'\n",
            " 'Valverde de Alcalá' 'Villar del Olmo' 'Villamantilla'\n",
            " 'Horcajo de la Sierra' 'Gascones' 'Zarzalejo' 'Villavieja del Lozoya'\n",
            " 'Brea de Tajo' 'Estremera' 'Chapinería' 'Navarredonda' 'Patones' 'Ambite'\n",
            " 'Navalafuente' 'Lozoya' 'Canencia' 'Cabanillas de la Sierra'\n",
            " 'Buitrago del Lozoya' 'Fresno de Torote' 'Robregordo' 'Pinilla del Valle'\n",
            " 'Rascafría' 'La Hiruela' 'Montejo de la Sierra']\n",
            "168\n"
          ]
        }
      ],
      "source": [
        "\n",
        "Populations = ds.level5.unique()\n",
        "print(Populations)\n",
        "long_level = len(Populations)\n",
        "print(long_level)\n"
      ]
    },
    {
      "attachments": {},
      "cell_type": "markdown",
      "id": "crazy-blame",
      "metadata": {},
      "source": [
        "#### Ejercicio 05. ¿El dataset contiene valores nulos (NAs)? (★☆☆)\n",
        "\n",
        "Imprima un booleano (`True` o `False`) para verificar si hay valores nulos seguido de las columnas que contiene el NAs."
      ]
    },
    {
      "cell_type": "code",
      "execution_count": null,
      "id": "transparent-poetry",
      "metadata": {},
      "outputs": [
        {
          "name": "stdout",
          "output_type": "stream",
          "text": [
            "       Unnamed: 0  id_realEstates  isNew  realEstate_name  phone_realEstate  \\\n",
            "0           False           False  False            False             False   \n",
            "1           False           False  False            False             False   \n",
            "2           False           False  False            False             False   \n",
            "3           False           False  False            False             False   \n",
            "4           False           False  False            False             False   \n",
            "...           ...             ...    ...              ...               ...   \n",
            "15330       False           False  False            False             False   \n",
            "15331       False           False  False            False             False   \n",
            "15332       False           False  False            False             False   \n",
            "15333       False           False  False            False             False   \n",
            "15334       False           False  False            False             False   \n",
            "\n",
            "       url_inmueble  rooms  bathrooms  surface  price  ...  level4Id  \\\n",
            "0             False  False      False    False  False  ...     False   \n",
            "1             False  False      False     True  False  ...     False   \n",
            "2             False  False      False    False  False  ...     False   \n",
            "3             False  False      False    False  False  ...     False   \n",
            "4             False  False      False    False  False  ...     False   \n",
            "...             ...    ...        ...      ...    ...  ...       ...   \n",
            "15330         False  False      False    False  False  ...     False   \n",
            "15331         False  False      False    False  False  ...     False   \n",
            "15332         False  False      False    False  False  ...     False   \n",
            "15333         False  False      False    False  False  ...     False   \n",
            "15334         False  False      False    False  False  ...     False   \n",
            "\n",
            "       level5Id  level6Id  level7Id  level8Id  accuracy  latitude  longitude  \\\n",
            "0         False     False     False     False     False     False      False   \n",
            "1         False     False     False     False     False     False      False   \n",
            "2         False     False     False     False     False     False      False   \n",
            "3         False     False     False     False     False     False      False   \n",
            "4         False     False     False     False     False     False      False   \n",
            "...         ...       ...       ...       ...       ...       ...        ...   \n",
            "15330     False     False     False     False     False     False      False   \n",
            "15331     False     False     False     False     False     False      False   \n",
            "15332     False     False     False     False     False     False      False   \n",
            "15333     False     False     False     False     False     False      False   \n",
            "15334     False     False     False     False     False     False      False   \n",
            "\n",
            "       zipCode  customZone  \n",
            "0         True        True  \n",
            "1         True        True  \n",
            "2         True        True  \n",
            "3         True        True  \n",
            "4         True        True  \n",
            "...        ...         ...  \n",
            "15330     True        True  \n",
            "15331     True        True  \n",
            "15332     True        True  \n",
            "15333     True        True  \n",
            "15334     True        True  \n",
            "\n",
            "[15335 rows x 37 columns]\n",
            "Unnamed: 0              0\n",
            "id_realEstates          0\n",
            "isNew                   0\n",
            "realEstate_name        10\n",
            "phone_realEstate      794\n",
            "url_inmueble            0\n",
            "rooms                 353\n",
            "bathrooms             345\n",
            "surface              1250\n",
            "price                   0\n",
            "date                    0\n",
            "description           142\n",
            "address                 0\n",
            "country                 0\n",
            "level1                  0\n",
            "level2                  0\n",
            "level3                  0\n",
            "level4               6643\n",
            "level5                  0\n",
            "level6              14627\n",
            "level7               2277\n",
            "level8               8579\n",
            "upperLevel              0\n",
            "countryId               0\n",
            "level1Id                0\n",
            "level2Id                0\n",
            "level3Id                0\n",
            "level4Id                0\n",
            "level5Id                0\n",
            "level6Id                0\n",
            "level7Id                0\n",
            "level8Id                0\n",
            "accuracy                0\n",
            "latitude                0\n",
            "longitude               0\n",
            "zipCode             15335\n",
            "customZone          15335\n",
            "dtype: int64\n",
            "                         realEstate_name  phone_realEstate  rooms  bathrooms  \\\n",
            "0                ferrari 57 inmobiliaria       912177526.0    3.0        2.0   \n",
            "1      tecnocasa fuenlabrada ferrocarril       916358736.0    3.0        1.0   \n",
            "2                     look find boadilla       916350408.0    2.0        2.0   \n",
            "3      tecnocasa fuenlabrada ferrocarril       916358736.0    3.0        1.0   \n",
            "4                ferrari 57 inmobiliaria       912177526.0    2.0        2.0   \n",
            "...                                  ...               ...    ...        ...   \n",
            "15330                infocasa consulting       911360461.0    2.0        1.0   \n",
            "15331                inmobiliaria pulpon       912788039.0    3.0        1.0   \n",
            "15332             tecnocasa torrelodones       912780348.0    4.0        2.0   \n",
            "15333                inmobiliaria pulpon       912788039.0    3.0        2.0   \n",
            "15334                infocasa consulting       911360461.0    3.0        2.0   \n",
            "\n",
            "       surface                                        description  \\\n",
            "0        103.0  Ponemos a la venta piso de 3 dormitorios con t...   \n",
            "1          NaN  \"\"Agencia inmobiliaria de FUENLABRADA - zona F...   \n",
            "2         99.0  Lookandfind Boadilla, vende en exclusiva, piso...   \n",
            "3         86.0  Agencia inmobiliaria de FUENLABRADA - zona Fue...   \n",
            "4        106.0  PISOS DE OBRA NUEVA DE 2 Y 3 DORMITORIOS. OBRA...   \n",
            "...        ...                                                ...   \n",
            "15330     96.0  ¡¡¡IDEAL PROFESIONALES E INVERSORES¡¡¡ \\nINFOC...   \n",
            "15331    150.0  Planta baja con cocinas, una de ellos posibili...   \n",
            "15332    175.0                                                NaN   \n",
            "15333    101.0  Piso de 3 dormitorios con armarios empotrados,...   \n",
            "15334    152.0  INFOCASA vende este bonito piso reformado con ...   \n",
            "\n",
            "                                level4 level6         level7  \\\n",
            "0             Arganda del Rey, Zona de    NaN        Perlita   \n",
            "1                 Fuenlabrada, Zona de    NaN         Centro   \n",
            "2          Boadilla del Monte, Zona de    NaN       Sector B   \n",
            "3                 Fuenlabrada, Zona de    NaN         Centro   \n",
            "4             Arganda del Rey, Zona de    NaN         Centro   \n",
            "...                                ...    ...            ...   \n",
            "15330                              NaN    NaN         Tetuán   \n",
            "15331  Velilla de San Antonio, Zona de    NaN            NaN   \n",
            "15332            Torrelodones, Zona de    NaN  Casco Antiguo   \n",
            "15333  Velilla de San Antonio, Zona de    NaN            NaN   \n",
            "15334                              NaN    NaN         Tetuán   \n",
            "\n",
            "                    level8  zipCode  customZone  \n",
            "0                      NaN      NaN         NaN  \n",
            "1                      NaN      NaN         NaN  \n",
            "2                      NaN      NaN         NaN  \n",
            "3                      NaN      NaN         NaN  \n",
            "4                      NaN      NaN         NaN  \n",
            "...                    ...      ...         ...  \n",
            "15330           Berruguete      NaN         NaN  \n",
            "15331                  NaN      NaN         NaN  \n",
            "15332                  NaN      NaN         NaN  \n",
            "15333                  NaN      NaN         NaN  \n",
            "15334  Castillejos - Cuzco      NaN         NaN  \n",
            "\n",
            "[15335 rows x 12 columns]\n"
          ]
        }
      ],
      "source": [
        "ds = pd.read_csv('assets/real_estate.csv', sep=';')\n",
        "value_null = ds.isnull()\n",
        "print(value_null)\n",
        "\n",
        "sum_null = ds.isnull().sum()\n",
        "print(sum_null)\n",
        "\n",
        "colum_null = ds.loc[: ,ds.isnull().any()]\n",
        "print(colum_null)"
      ]
    },
    {
      "attachments": {},
      "cell_type": "markdown",
      "id": "italic-hydrogen",
      "metadata": {},
      "source": [
        "#### Ejercicio 06. Elimina los valores nulos (NAs) del dataset, si aplica (★★☆)\n",
        "\n",
        "Despues de eliminar los valores nulos, compara el tamaño del DataFrame antes y después de la eliminación.\n"
      ]
    },
    {
      "cell_type": "code",
      "execution_count": 32,
      "id": "administrative-roads",
      "metadata": {},
      "outputs": [
        {
          "name": "stdout",
          "output_type": "stream",
          "text": [
            "Empty DataFrame\n",
            "Columns: [Unnamed: 0, id_realEstates, isNew, realEstate_name, phone_realEstate, url_inmueble, rooms, bathrooms, surface, price, date, description, address, country, level1, level2, level3, level4, level5, level6, level7, level8, upperLevel, countryId, level1Id, level2Id, level3Id, level4Id, level5Id, level6Id, level7Id, level8Id, accuracy, latitude, longitude, zipCode, customZone]\n",
            "Index: []\n",
            "\n",
            "[0 rows x 37 columns]\n"
          ]
        }
      ],
      "source": [
        "ds_filtrado = ds.dropna()\n",
        "print(ds_filtrado)\n"
      ]
    },
    {
      "attachments": {},
      "cell_type": "markdown",
      "id": "middle-china",
      "metadata": {},
      "source": [
        "#### Ejercicio 07. ¿Cuál es la media de precios en la población de \"Arroyomolinos (Madrid)\"? (★★☆)\n",
        "\n",
        "Imprima el valor obtenido de la columna level5."
      ]
    },
    {
      "cell_type": "code",
      "execution_count": 12,
      "id": "nuclear-belief",
      "metadata": {},
      "outputs": [
        {
          "name": "stdout",
          "output_type": "stream",
          "text": [
            "294541.59854014596\n"
          ]
        }
      ],
      "source": [
        "price_arro = ds.price[ds.level5 == \"Arroyomolinos (Madrid)\"].mean()\n",
        "print(price_arro)"
      ]
    },
    {
      "cell_type": "markdown",
      "id": "fa558158",
      "metadata": {},
      "source": []
    },
    {
      "cell_type": "markdown",
      "id": "1c1e95f0",
      "metadata": {},
      "source": []
    },
    {
      "attachments": {},
      "cell_type": "markdown",
      "id": "concerned-radical",
      "metadata": {},
      "source": [
        "#### Ejercicio 08. Trazar el histograma de los precios para la población de \"Arroyomolinos (Madrid)\" y explica qué observas (★★☆)\n",
        "\n",
        "Imprime el histograma de los precios y escribe en la celda del Markdown un breve análisis del trazado.\n"
      ]
    },
    {
      "cell_type": "code",
      "execution_count": 14,
      "id": "sudden-message",
      "metadata": {},
      "outputs": [
        {
          "data": {
            "image/png": "[encoded data removed]",
            "text/plain": [
              "<Figure size 640x480 with 1 Axes>"
            ]
          },
          "metadata": {},
          "output_type": "display_data"
        }
      ],
      "source": [
        "import matplotlib.pyplot as plt\n",
        "\n",
        "# Trazar el histograma de precios\n",
        "arroyo = ds[ds.level5 == \"Arroyomolinos (Madrid)\"]\n",
        "arroyo[\"price\"].plot(kind = \"hist\" , alpha = 0.6)\n",
        "plt.title(\"Histograma\")\n",
        "plt.show()"
      ]
    },
    {
      "attachments": {},
      "cell_type": "markdown",
      "id": "impressed-combination",
      "metadata": {},
      "source": [
        "**TODO: Markdown**. El histograma nos refleja que en la poblacion de \"Arroyomolinos\", los precios tienen una tendencia mayormente entre los 200000 y 400000, tiene mayor frecuencia y variacion dentro de esta. Por otro lado podemos observar que existen valores atipicos dentro de ella, se podria decir que no hay poblacion que cumpla con el precio de 60000 hasta 120000, y que una sola poblacion esta por debajo de esta. "
      ]
    }
  ],
  "metadata": {
    "kernelspec": {
      "display_name": "Python 3",
      "language": "python",
      "name": "python3"
    },
    "language_info": {
      "codemirror_mode": {
        "name": "ipython",
        "version": 3
      },
      "file_extension": ".py",
      "mimetype": "text/x-python",
      "name": "python",
      "nbconvert_exporter": "python",
      "pygments_lexer": "ipython3",
      "version": "3.11.4"
    }
  },
  "nbformat": 4,
  "nbformat_minor": 5
}
